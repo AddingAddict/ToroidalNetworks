{
 "cells": [
  {
   "cell_type": "code",
   "execution_count": 1,
   "id": "927d22b9",
   "metadata": {},
   "outputs": [],
   "source": [
    "from importlib import reload\n",
    "import sys\n",
    "import os\n",
    "sys.path.insert(0, './../scripts')"
   ]
  },
  {
   "cell_type": "code",
   "execution_count": 2,
   "id": "4bfe6859",
   "metadata": {},
   "outputs": [],
   "source": [
    "import pickle\n",
    "import numpy as np\n",
    "import matplotlib as mpl\n",
    "import matplotlib.pyplot as plt\n",
    "from mpl_toolkits.axes_grid1 import make_axes_locatable\n",
    "from matplotlib.figure import figaspect\n",
    "import time\n",
    "\n",
    "import ring_network as network\n",
    "import sim_util as su\n",
    "import ricciardi as ric\n",
    "import integrate as integ\n",
    "\n",
    "def imshowbar(ax,A,**kwargs):\n",
    "    imsh = ax.imshow(A,**kwargs)\n",
    "    divider = make_axes_locatable(ax)\n",
    "    cax = divider.append_axes('right', size='5%', pad=0.05)\n",
    "    fig.colorbar(imsh, cax=cax, orientation='vertical')"
   ]
  },
  {
   "cell_type": "code",
   "execution_count": 3,
   "id": "f9123830",
   "metadata": {},
   "outputs": [],
   "source": [
    "with open('./../scripts/'+'sim_ring_vary_widths_array_results'+'.pkl', 'rb') as handle_loadModel:\n",
    "    results_dict=pickle.load(handle_loadModel)"
   ]
  },
  {
   "cell_type": "code",
   "execution_count": 6,
   "id": "3ebe75ca",
   "metadata": {},
   "outputs": [
    {
     "name": "stdout",
     "output_type": "stream",
     "text": [
      "dict_keys([(0, 0), (0, 1), (0, 2), (0, 3), (0, 4), (0, 5), (1, 0)])\n",
      "dict_keys(['EF_base_input_per_ori_mean', 'IF_base_input_per_ori_mean', 'EF_base_input_per_ori_std', 'IF_base_input_per_ori_std', 'EF_opto_input_per_ori_mean', 'IF_opto_input_per_ori_mean', 'EF_opto_input_per_ori_std', 'IF_opto_input_per_ori_std', 'EE_base_input_per_ori_mean', 'IE_base_input_per_ori_mean', 'EE_base_input_per_ori_std', 'IE_base_input_per_ori_std', 'EE_opto_input_per_ori_mean', 'IE_opto_input_per_ori_mean', 'EE_opto_input_per_ori_std', 'IE_opto_input_per_ori_std', 'EI_base_input_per_ori_mean', 'II_base_input_per_ori_mean', 'EI_base_input_per_ori_std', 'II_base_input_per_ori_std', 'EI_opto_input_per_ori_mean', 'II_opto_input_per_ori_mean', 'EI_opto_input_per_ori_std', 'II_opto_input_per_ori_std', 'ET_base_input_per_ori_mean', 'IT_base_input_per_ori_mean', 'ET_base_input_per_ori_std', 'IT_base_input_per_ori_std', 'ET_opto_input_per_ori_mean', 'IT_opto_input_per_ori_mean', 'ET_opto_input_per_ori_std', 'IT_opto_input_per_ori_std', 'E_base_rate_per_ori_mean', 'I_base_rate_per_ori_mean', 'E_base_rate_per_ori_std', 'I_base_rate_per_ori_std', 'E_opto_rate_per_ori_mean', 'I_opto_rate_per_ori_mean', 'E_opto_rate_per_ori_std', 'I_opto_rate_per_ori_std', 'E_diff_rate_per_ori_mean', 'I_diff_rate_per_ori_mean', 'E_diff_rate_per_ori_std', 'I_diff_rate_per_ori_std', 'E_diff_rate_per_ori_cov', 'I_diff_rate_per_ori_cov', 'sWI', 'sH'])\n"
     ]
    }
   ],
   "source": [
    "print(results_dict.keys())\n",
    "print(results_dict[(0,0)].keys())"
   ]
  },
  {
   "cell_type": "code",
   "execution_count": 9,
   "id": "251b33c5",
   "metadata": {},
   "outputs": [
    {
     "name": "stdout",
     "output_type": "stream",
     "text": [
      "20.0\n",
      "45.0\n"
     ]
    }
   ],
   "source": [
    "print(results_dict[(0,5)]['sWI'])\n",
    "print(results_dict[(0,5)]['sH'])"
   ]
  },
  {
   "cell_type": "code",
   "execution_count": null,
   "id": "eda849c3",
   "metadata": {},
   "outputs": [],
   "source": []
  }
 ],
 "metadata": {
  "kernelspec": {
   "display_name": "Python 3 (ipykernel)",
   "language": "python",
   "name": "python3"
  },
  "language_info": {
   "codemirror_mode": {
    "name": "ipython",
    "version": 3
   },
   "file_extension": ".py",
   "mimetype": "text/x-python",
   "name": "python",
   "nbconvert_exporter": "python",
   "pygments_lexer": "ipython3",
   "version": "3.9.16"
  }
 },
 "nbformat": 4,
 "nbformat_minor": 5
}
