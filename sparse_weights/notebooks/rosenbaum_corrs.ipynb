{
 "cells": [
  {
   "cell_type": "code",
   "execution_count": 3,
   "metadata": {},
   "outputs": [],
   "source": [
    "from importlib import reload\n",
    "import sys\n",
    "import os\n",
    "sys.path.insert(0, './../scripts')"
   ]
  },
  {
   "cell_type": "code",
   "execution_count": 2,
   "metadata": {},
   "outputs": [],
   "source": [
    "import pickle\n",
    "import numpy as np\n",
    "import scipy\n",
    "import torch\n",
    "import matplotlib as mpl\n",
    "from matplotlib import cm\n",
    "import matplotlib.pyplot as plt\n",
    "from mpl_toolkits.axes_grid1 import make_axes_locatable\n",
    "from matplotlib.figure import figaspect\n",
    "import time\n",
    "\n",
    "import base_network as base_net\n",
    "import ring_network as network\n",
    "import sim_util as su\n",
    "import ricciardi as ric\n",
    "import integrate as integ\n",
    "\n",
    "def imshowbar(fig,ax,A,**kwargs):\n",
    "    imsh = ax.imshow(A,**kwargs)\n",
    "    divider = make_axes_locatable(ax)\n",
    "    cax = divider.append_axes('right', size='5%', pad=0.05)\n",
    "    cbar = fig.colorbar(imsh, cax=cax, orientation='vertical')\n",
    "    return cbar"
   ]
  },
  {
   "cell_type": "markdown",
   "metadata": {},
   "source": [
    "# Build Rosenbaum Network on Ring"
   ]
  },
  {
   "cell_type": "code",
   "execution_count": 4,
   "metadata": {},
   "outputs": [
    {
     "name": "stdout",
     "output_type": "stream",
     "text": [
      "Loading previously saved nonlinearity\n"
     ]
    }
   ],
   "source": [
    "ri = ric.Ricciardi()\n",
    "ri.set_up_nonlinearity('./../scripts/phi_int')\n",
    "\n",
    "NtE = 50\n",
    "Nt = NtE*ri.tE\n",
    "dt = ri.tI/5\n",
    "T = np.linspace(0,5*Nt,round(5*Nt/dt)+1)\n",
    "mask_time = T>(4*Nt)"
   ]
  },
  {
   "cell_type": "code",
   "execution_count": 5,
   "metadata": {},
   "outputs": [],
   "source": [
    "jr = np.array([\n",
    "    [0.04,-0.40],\n",
    "    [0.12,-0.40]\n",
    "])\n",
    "jf = np.array([0.12,0.12])\n",
    "\n",
    "Kr = 2000\n",
    "Kf = np.array([1406.25,450])\n",
    "\n",
    "jmult = 1/224\n",
    "\n",
    "alfr = 0.25*180*np.ones((2,2))\n",
    "alff = 0.10*180*np.ones(2)\n",
    "\n",
    "net = network.RingNetwork(NC=[80,20],NX=30,Nori=500)\n",
    "\n",
    "net.generate_disorder_two_layer(jr*jmult,alfr,Kr,\n",
    "                                jf*jmult,alff,Kf)"
   ]
  },
  {
   "cell_type": "code",
   "execution_count": null,
   "metadata": {},
   "outputs": [],
   "source": [
    "start = time.process_time()\n",
    "sol,_ = integ.sim_dyn(ri,T,0.0,net.M,net.H,net.H,net.C_all[0],net.C_all[1],mult_tau=True,max_min=30)\n",
    "print('integration time took',time.process_time()-start,'s')"
   ]
  },
  {
   "cell_type": "code",
   "execution_count": null,
   "metadata": {},
   "outputs": [],
   "source": []
  }
 ],
 "metadata": {
  "kernelspec": {
   "display_name": "Python 3",
   "language": "python",
   "name": "python3"
  },
  "language_info": {
   "codemirror_mode": {
    "name": "ipython",
    "version": 3
   },
   "file_extension": ".py",
   "mimetype": "text/x-python",
   "name": "python",
   "nbconvert_exporter": "python",
   "pygments_lexer": "ipython3",
   "version": "3.11.4"
  }
 },
 "nbformat": 4,
 "nbformat_minor": 2
}
