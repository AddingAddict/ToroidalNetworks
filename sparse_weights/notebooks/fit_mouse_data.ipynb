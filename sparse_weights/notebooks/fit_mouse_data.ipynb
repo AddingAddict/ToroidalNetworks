{
 "cells": [
  {
   "cell_type": "code",
   "execution_count": 1,
   "id": "98d4ea08",
   "metadata": {},
   "outputs": [],
   "source": [
    "from importlib import reload\n",
    "import sys\n",
    "import os\n",
    "sys.path.insert(0, './../scripts')"
   ]
  },
  {
   "cell_type": "code",
   "execution_count": 2,
   "id": "d92106b3",
   "metadata": {},
   "outputs": [],
   "source": [
    "import pickle\n",
    "import numpy as np\n",
    "import matplotlib as mpl\n",
    "from matplotlib import cm\n",
    "import matplotlib.pyplot as plt\n",
    "from mpl_toolkits.axes_grid1 import make_axes_locatable\n",
    "from matplotlib.figure import figaspect\n",
    "import time\n",
    "\n",
    "import spat_ori_network as network\n",
    "import sim_util as su\n",
    "import ricciardi as ric\n",
    "import integrate as integ\n",
    "\n",
    "def imshowbar(fig,ax,A,**kwargs):\n",
    "    imsh = ax.imshow(A,**kwargs)\n",
    "    divider = make_axes_locatable(ax)\n",
    "    cax = divider.append_axes('right', size='5%', pad=0.05)\n",
    "    fig.colorbar(imsh, cax=cax, orientation='vertical')"
   ]
  },
  {
   "cell_type": "markdown",
   "id": "184d4220",
   "metadata": {},
   "source": [
    "# Read Base Results Files"
   ]
  },
  {
   "cell_type": "code",
   "execution_count": 40,
   "id": "f0edafb5",
   "metadata": {},
   "outputs": [
    {
     "name": "stdout",
     "output_type": "stream",
     "text": [
      "1311\n"
     ]
    }
   ],
   "source": [
    "max_njob = 200\n",
    "\n",
    "res_dict = {}\n",
    "id_res_dict = {}\n",
    "\n",
    "nsim = 0\n",
    "for njob in range(max_njob):\n",
    "    try:\n",
    "        with open('./../results/results_base_'+str(njob)+'.pkl', 'rb') as handle:\n",
    "            this_res_dict = pickle.load(handle)\n",
    "        max_rep = max(list(this_res_dict.keys())) + 1\n",
    "        for idx_rep in range(max_rep):\n",
    "            res_dict[nsim] = this_res_dict[idx_rep]\n",
    "            res_dict[nsim]['id'] = (njob,idx_rep)\n",
    "            id_res_dict[(njob,idx_rep)] = this_res_dict[idx_rep]\n",
    "            nsim += 1\n",
    "    except:\n",
    "        pass\n",
    "\n",
    "print(nsim)"
   ]
  },
  {
   "cell_type": "code",
   "execution_count": 41,
   "id": "87f0a8dd",
   "metadata": {},
   "outputs": [],
   "source": [
    "prms = np.zeros((nsim,11))\n",
    "inputs = np.zeros((nsim,9))\n",
    "costs = np.zeros((nsim))\n",
    "\n",
    "for idx_sim in range(nsim):\n",
    "    prms[idx_sim] = np.array(list(res_dict[idx_sim]['prms'].values()))\n",
    "    inputs[idx_sim] = np.concatenate(([res_dict[idx_sim]['best_eX']],[res_dict[idx_sim]['best_bX']],\n",
    "                                      res_dict[idx_sim]['best_aXs']))\n",
    "    costs[idx_sim] = res_dict[idx_sim]['best_cost']"
   ]
  },
  {
   "cell_type": "code",
   "execution_count": 42,
   "id": "54f5fe4b",
   "metadata": {},
   "outputs": [
    {
     "name": "stdout",
     "output_type": "stream",
     "text": [
      "(118, 5)\n",
      "{'SrfE': 12.940111969332282, 'SrfI': 19.459208800703315, 'SrfF': 20, 'SoriE': 36.907244273244515, 'SoriI': 33.51951281695162, 'SoriF': 43.928905500358894, 'fEE': 0.886025501863603, 'fEI': 1.2361959979943369, 'fIE': 0.7503831441376321, 'fII': 1.0810860686494903, 'fFI': 0.8912578013409655}\n",
      "0.49999999999847367\n",
      "2.6102168236880745\n",
      "[0.         0.25481409 0.37694752 0.53751669 0.56795482 1.52808744\n",
      " 3.46419408]\n",
      "[ 6.62042035  7.23251091  7.5258884   7.91159263  7.98470826 10.29104898\n",
      " 15.88062207]\n",
      "[ 5.68310787  6.3092617   6.60937976  7.00394586  7.07874139  9.43807213\n",
      " 15.02580984]\n",
      "0.9938180626068223\n"
     ]
    }
   ],
   "source": [
    "idx_min = np.argmin(costs)\n",
    "\n",
    "print(res_dict[idx_min]['id'])\n",
    "print(res_dict[idx_min]['prms'])\n",
    "print(res_dict[idx_min]['best_eX'])\n",
    "print(res_dict[idx_min]['best_bX'])\n",
    "print(res_dict[idx_min]['best_aXs'])\n",
    "print(res_dict[idx_min]['best_means'])\n",
    "print(res_dict[idx_min]['best_stds'])\n",
    "print(res_dict[idx_min]['best_cost'])"
   ]
  },
  {
   "cell_type": "markdown",
   "id": "1b33c46c",
   "metadata": {},
   "source": [
    "# Read Opto Results Files"
   ]
  },
  {
   "cell_type": "code",
   "execution_count": 87,
   "id": "4dce03fc",
   "metadata": {},
   "outputs": [
    {
     "name": "stdout",
     "output_type": "stream",
     "text": [
      "813\n"
     ]
    }
   ],
   "source": [
    "max_njob = 200\n",
    "\n",
    "res_dict = {}\n",
    "\n",
    "nsim = 0\n",
    "for njob in range(max_njob):\n",
    "    try:\n",
    "        with open('./../results/results_opto_'+str(njob)+'.pkl', 'rb') as handle:\n",
    "            this_res_dict = pickle.load(handle)\n",
    "        max_rep = max(list(this_res_dict.keys())) + 1\n",
    "        for idx_rep in range(max_rep):\n",
    "            res_dict[nsim] = this_res_dict[idx_rep]\n",
    "            res_dict[nsim]['id'] = (njob,idx_rep)\n",
    "            nsim += 1\n",
    "    except:\n",
    "        pass\n",
    "\n",
    "print(nsim)"
   ]
  },
  {
   "cell_type": "code",
   "execution_count": 88,
   "id": "02ffe3bb",
   "metadata": {},
   "outputs": [],
   "source": [
    "prms = np.zeros((nsim,11))\n",
    "inputs = np.zeros((nsim,2))\n",
    "costs = np.zeros((nsim))\n",
    "\n",
    "for idx_sim in range(nsim):\n",
    "    prms[idx_sim] = np.array(list(res_dict[idx_sim]['prms'].values()))\n",
    "    inputs[idx_sim] = np.concatenate(([res_dict[idx_sim]['best_L']],[res_dict[idx_sim]['best_CVL']]))\n",
    "    costs[idx_sim] = res_dict[idx_sim]['best_cost'] + id_res_dict[res_dict[idx_sim]['id']]['best_cost']\n",
    "    costs[idx_sim] *= 1e8 if res_dict[idx_min]['best_diff_means'][-1] > res_dict[idx_min]['best_diff_means'][0] \\\n",
    "        else 1"
   ]
  },
  {
   "cell_type": "code",
   "execution_count": 89,
   "id": "dd06dd4b",
   "metadata": {},
   "outputs": [
    {
     "name": "stdout",
     "output_type": "stream",
     "text": [
      "(84, 0)\n",
      "{'SrfE': 15.7538486994389, 'SrfI': 7.046622992595769, 'SrfF': 20, 'SoriE': 24.953877993731425, 'SoriI': 38.12048547450283, 'SoriF': 36.75758272019653, 'fEE': 0.9609543331794965, 'fEI': 1.086519954916826, 'fIE': 0.9911424325463908, 'fII': 1.2252079589178013, 'fFI': 1.2014852358170565}\n",
      "0.49999999999262096\n",
      "2.5595960598498584\n",
      "[0.         0.38566975 0.57793687 0.8321163  0.87109781 2.25731141\n",
      " 5.00923031]\n",
      "2.23158283227162\n",
      "1.778279414270379\n",
      "[ 6.80984158  7.32339518  7.57941597  7.91787851  7.96978586  9.89367612\n",
      " 14.52970854]\n",
      "[ 5.69153654  6.30835027  6.61584911  7.02236625  7.08471059  9.4959045\n",
      " 16.18880405]\n",
      "[10.33878627 10.96994928 11.27091742 11.67574667 11.74358565 14.32587743\n",
      " 20.07854425]\n",
      "[10.06069272 10.4790371  10.69050148 10.98620252 11.03695812 13.17753959\n",
      " 18.73136926]\n",
      "[3.95992366 4.07144156 4.1213966  4.18550426 4.19593014 4.5316352\n",
      " 4.98703814]\n",
      "[8.2034326  8.29458033 8.33565555 8.38860427 8.39722868 8.67952918\n",
      " 9.07073767]\n",
      "[0.04174232 0.04753108 0.05052136 0.05471933 0.05543998 0.08442372\n",
      " 0.14054588]\n",
      "545928488.6008148\n"
     ]
    }
   ],
   "source": [
    "idx_min = np.argmin(costs)\n",
    "\n",
    "print(res_dict[idx_min]['id'])\n",
    "print(res_dict[idx_min]['prms'])\n",
    "print(id_res_dict[res_dict[idx_sim]['id']]['best_eX'])\n",
    "print(id_res_dict[res_dict[idx_sim]['id']]['best_bX'])\n",
    "print(id_res_dict[res_dict[idx_sim]['id']]['best_aXs'])\n",
    "print(res_dict[idx_min]['best_L'])\n",
    "print(res_dict[idx_min]['best_CVL'])\n",
    "print(id_res_dict[res_dict[idx_sim]['id']]['best_means'])\n",
    "print(id_res_dict[res_dict[idx_sim]['id']]['best_stds'])\n",
    "print(res_dict[idx_min]['best_opto_means'])\n",
    "print(res_dict[idx_min]['best_opto_stds'])\n",
    "print(res_dict[idx_min]['best_diff_means'])\n",
    "print(res_dict[idx_min]['best_diff_stds'])\n",
    "print(res_dict[idx_min]['best_norm_covs'])\n",
    "# print(res_dict[idx_min]['best_cost'] + id_res_dict[res_dict[idx_sim]['id']]['best_cost'])\n",
    "print(costs[idx_min])"
   ]
  },
  {
   "cell_type": "markdown",
   "id": "8a743265",
   "metadata": {},
   "source": [
    "# Read Comb Results Files"
   ]
  },
  {
   "cell_type": "code",
   "execution_count": 90,
   "id": "c16fe623",
   "metadata": {},
   "outputs": [
    {
     "name": "stdout",
     "output_type": "stream",
     "text": [
      "507\n"
     ]
    }
   ],
   "source": [
    "max_njob = 200\n",
    "\n",
    "res_dict = {}\n",
    "\n",
    "nsim = 0\n",
    "for njob in range(max_njob):\n",
    "    try:\n",
    "        with open('./../results/results_comb_'+str(njob)+'.pkl', 'rb') as handle:\n",
    "            this_res_dict = pickle.load(handle)\n",
    "        max_rep = max(list(this_res_dict.keys())) + 1\n",
    "        for idx_rep in range(max_rep):\n",
    "            res_dict[nsim] = this_res_dict[idx_rep]\n",
    "            res_dict[nsim]['id'] = (njob,idx_rep)\n",
    "            nsim += 1\n",
    "    except:\n",
    "        pass\n",
    "\n",
    "print(nsim)"
   ]
  },
  {
   "cell_type": "code",
   "execution_count": 91,
   "id": "596a47ea",
   "metadata": {},
   "outputs": [],
   "source": [
    "prms = np.zeros((nsim,13))\n",
    "inputs = np.zeros((nsim,9))\n",
    "costs = np.zeros((nsim))\n",
    "\n",
    "for idx_sim in range(nsim):\n",
    "    prms[idx_sim] = np.array(list(res_dict[idx_sim]['prms'].values()))\n",
    "    inputs[idx_sim] = np.concatenate(([res_dict[idx_sim]['best_eX']],[res_dict[idx_sim]['best_bX']],\n",
    "                                      res_dict[idx_sim]['best_aXs']))\n",
    "    costs[idx_sim] = res_dict[idx_sim]['best_cost']\n",
    "    costs[idx_sim] *= 1e8 if res_dict[idx_min]['best_diff_means'][-1] > res_dict[idx_min]['best_diff_means'][0] \\\n",
    "        else 1"
   ]
  },
  {
   "cell_type": "code",
   "execution_count": 92,
   "id": "da876a63",
   "metadata": {},
   "outputs": [
    {
     "name": "stdout",
     "output_type": "stream",
     "text": [
      "(45, 2)\n",
      "{'SrfE': 10.550152081539142, 'SrfI': 16.07865249050877, 'SrfF': 30, 'SoriE': 28.184809695055524, 'SoriI': 30.21989163195262, 'SoriF': 39.15714170801061, 'fEE': 1.0506607239469055, 'fEI': 0.7467693106136719, 'fIE': 0.9187698061837739, 'fII': 0.8254365414159728, 'fFI': 1.3917451440450372, 'L': 2.8037678888031996, 'CVL': 1.4346284857676583}\n",
      "0.5399859632931963\n",
      "2.372266912228103\n",
      "[0.         0.1593714  0.25965879 0.43302212 0.51366734 1.10942887\n",
      " 2.91251707]\n",
      "[ 6.52127529  6.94659229  7.21423085  7.67688835  7.89210752  9.48202584\n",
      " 14.29395615]\n",
      "[ 5.55592329  6.02652041  6.32265233  6.8345653   7.07269714  8.83188145\n",
      " 14.15609979]\n",
      "[11.06714501 11.57496653 11.8945226  12.44692807 12.70389623 14.60223265\n",
      " 20.34759858]\n",
      "[10.52801663 10.93750511 11.1951833  11.64062263 11.84783225 13.37858051\n",
      " 18.01143102]\n",
      "[4.54586972 4.62837425 4.68029175 4.77003972 4.81178871 5.12020681\n",
      " 6.05364243]\n",
      "[7.8861239  7.93682822 7.96873485 8.02389073 8.04954817 8.23909086\n",
      " 8.81274687]\n",
      "[0.10188507 0.11088002 0.11654026 0.12632492 0.13087655 0.16450143\n",
      " 0.26626804]\n",
      "987096353.0497257\n"
     ]
    }
   ],
   "source": [
    "idx_min = np.argmin(costs)\n",
    "\n",
    "print(res_dict[idx_min]['id'])\n",
    "print(res_dict[idx_min]['prms'])\n",
    "print(res_dict[idx_min]['best_eX'])\n",
    "print(res_dict[idx_min]['best_bX'])\n",
    "print(res_dict[idx_min]['best_aXs'])\n",
    "print(res_dict[idx_min]['best_base_means'])\n",
    "print(res_dict[idx_min]['best_base_stds'])\n",
    "print(res_dict[idx_min]['best_opto_means'])\n",
    "print(res_dict[idx_min]['best_opto_stds'])\n",
    "print(res_dict[idx_min]['best_diff_means'])\n",
    "print(res_dict[idx_min]['best_diff_stds'])\n",
    "print(res_dict[idx_min]['best_norm_covs'])\n",
    "# print(res_dict[idx_min]['best_cost'])\n",
    "print(costs[idx_min])"
   ]
  },
  {
   "cell_type": "code",
   "execution_count": null,
   "id": "abe75c09",
   "metadata": {},
   "outputs": [],
   "source": []
  }
 ],
 "metadata": {
  "kernelspec": {
   "display_name": "Python 3 (ipykernel)",
   "language": "python",
   "name": "python3"
  },
  "language_info": {
   "codemirror_mode": {
    "name": "ipython",
    "version": 3
   },
   "file_extension": ".py",
   "mimetype": "text/x-python",
   "name": "python",
   "nbconvert_exporter": "python",
   "pygments_lexer": "ipython3",
   "version": "3.9.16"
  }
 },
 "nbformat": 4,
 "nbformat_minor": 5
}
