{
 "cells": [
  {
   "cell_type": "code",
   "execution_count": 1,
   "id": "9f8f8e8e",
   "metadata": {},
   "outputs": [],
   "source": [
    "from importlib import reload\n",
    "import sys\n",
    "import os\n",
    "sys.path.insert(0, './../scripts')"
   ]
  },
  {
   "cell_type": "code",
   "execution_count": 2,
   "id": "ce0f518b",
   "metadata": {},
   "outputs": [],
   "source": [
    "import pickle\n",
    "import numpy as np\n",
    "import matplotlib as mpl\n",
    "from matplotlib import cm\n",
    "import matplotlib.pyplot as plt\n",
    "from mpl_toolkits.axes_grid1 import make_axes_locatable\n",
    "from matplotlib.figure import figaspect\n",
    "import time\n",
    "\n",
    "import spat_ring_network as r_network\n",
    "import spat_snp_network as m_network\n",
    "import sim_util as su\n",
    "import ricciardi as ric\n",
    "import integrate as integ\n",
    "\n",
    "def imshowbar(ax,A,**kwargs):\n",
    "    imsh = ax.imshow(A,**kwargs)\n",
    "    divider = make_axes_locatable(ax)\n",
    "    cax = divider.append_axes('right', size='5%', pad=0.05)\n",
    "    fig.colorbar(imsh, cax=cax, orientation='vertical')"
   ]
  },
  {
   "cell_type": "markdown",
   "id": "6d50b521",
   "metadata": {},
   "source": [
    "# Read Results Files"
   ]
  },
  {
   "cell_type": "code",
   "execution_count": 55,
   "id": "d57e2154",
   "metadata": {},
   "outputs": [
    {
     "name": "stdout",
     "output_type": "stream",
     "text": [
      "1\n"
     ]
    }
   ],
   "source": [
    "max_njob = 1\n",
    "\n",
    "res_dict = {}\n",
    "\n",
    "nsim = 0\n",
    "for njob in range(max_njob):\n",
    "    try:\n",
    "        with open('./../results/results_base_'+str(njob)+'.pkl', 'rb') as handle:\n",
    "            this_res_dict = pickle.load(handle)\n",
    "        max_rep = max(list(this_res_dict.keys())) + 1\n",
    "        for idx_rep in range(max_rep):\n",
    "            res_dict[nsim] = this_res_dict[idx_rep]\n",
    "            nsim += 1\n",
    "    except:\n",
    "        pass\n",
    "\n",
    "print(nsim)"
   ]
  },
  {
   "cell_type": "code",
   "execution_count": 18,
   "id": "4d94adc2",
   "metadata": {},
   "outputs": [],
   "source": [
    "data_means = np.array([6.22, 6.72, 7.17, 7.67, 8.,  10.97, 16.7])\n",
    "data_stds =  np.array([5.79, 6.64, 6.93, 7.15, 7.07, 8.98, 13.6])\n",
    "\n",
    "data_means_err = np.array([0.83, 0.96, 1.00, 1.03, 1.02, 1.30, 2.00])\n",
    "data_stds_err =  np.array([0.48, 0.78, 0.96, 0.81, 0.78, 1.08, 2.63])"
   ]
  },
  {
   "cell_type": "code",
   "execution_count": 49,
   "id": "d2dabb61",
   "metadata": {},
   "outputs": [],
   "source": [
    "from scipy.interpolate import RegularGridInterpolator\n",
    "from scipy.optimize import least_squares\n",
    "\n",
    "aXs = np.arange(1,15+2,4)\n",
    "bXs = np.arange(1,7+2,4)\n",
    "eXs = np.arange(0,0.3+0.05,0.1)\n",
    "\n",
    "def fit_best_inputs(eX):\n",
    "    def residuals(x):\n",
    "        this_bX = x[0]\n",
    "        this_aXs = np.concatenate(([0],x[1:]))\n",
    "        pred_means = mean_itp(np.vstack((this_aXs,this_bX*np.ones(7),eX*np.ones(7))).T)\n",
    "        pred_stds = std_itp(np.vstack((this_aXs,this_bX*np.ones(7),eX*np.ones(7))).T)\n",
    "        res = np.array([(pred_means-data_means)/data_means_err, (pred_stds-data_stds)/data_stds_err])\n",
    "        return res.ravel()\n",
    "    xmin = np.concatenate(([bXs[ 0]],aXs[ 0]*np.ones(6)))\n",
    "    xmax = np.concatenate(([bXs[-1]],aXs[-1]*np.ones(6)))\n",
    "    x0 = np.concatenate(([2],np.linspace(1,12,6)))\n",
    "    results = least_squares(residuals,x0,bounds=(xmin,xmax))\n",
    "    this_bX = results.x[0]\n",
    "    this_aXs = np.concatenate(([0],results.x[1:]))\n",
    "    return (this_bX,this_aXs,mean_itp(np.vstack((this_aXs,this_bX*np.ones(7),eX*np.ones(7))).T),\n",
    "            std_itp(np.vstack((this_aXs,this_bX*np.ones(7),eX*np.ones(7))).T),results.cost)\n",
    "\n",
    "def fit_best_input_var():\n",
    "    def residuals(x):\n",
    "        _,_,_,_,cost = fit_best_inputs(x[0])\n",
    "        return [cost]\n",
    "    xmin,xmax = (eXs[0]),(eXs[-1])\n",
    "    x0 = np.array([0.2])\n",
    "    results = least_squares(residuals,x0,bounds=(xmin,xmax))\n",
    "    return (results.x[0],*fit_best_inputs(results.x[0]))"
   ]
  },
  {
   "cell_type": "code",
   "execution_count": 45,
   "id": "d46ff36a",
   "metadata": {},
   "outputs": [],
   "source": [
    "means = res_dict[0]['means']\n",
    "stds = res_dict[0]['stds']\n",
    "\n",
    "mean_itp = RegularGridInterpolator((aXs,bXs,eXs), means, bounds_error=False, fill_value=None)\n",
    "std_itp = RegularGridInterpolator((aXs,bXs,eXs), stds, bounds_error=False, fill_value=None)"
   ]
  },
  {
   "cell_type": "code",
   "execution_count": 50,
   "id": "28ee8682",
   "metadata": {},
   "outputs": [
    {
     "name": "stdout",
     "output_type": "stream",
     "text": [
      "0.29999999999998894\n",
      "2.585610377954368\n",
      "[ 0.          2.21622578  2.34301577  3.11526436  3.21549434  5.75817576\n",
      " 10.60483713]\n",
      "[ 7.54640802  8.9527195   9.0331744   9.52320663  9.58680781 11.31154654\n",
      " 15.21630063]\n",
      "[ 3.66307448  5.52929716  5.63606352  6.28635278  6.37075369  8.83473955\n",
      " 15.17699909]\n",
      "21.75416497356588\n"
     ]
    }
   ],
   "source": [
    "best_eX,best_bX,best_aXs,best_means,best_stds,best_cost = fit_best_input_var()\n",
    "print(best_eX)\n",
    "print(best_bX)\n",
    "print(best_aXs)\n",
    "print(best_means)\n",
    "print(best_stds)\n",
    "print(best_cost)"
   ]
  },
  {
   "cell_type": "code",
   "execution_count": null,
   "id": "87f7aa23",
   "metadata": {},
   "outputs": [],
   "source": [
    "input_fit_dict = {}\n",
    "\n",
    "for idx_sim in range(nsim):\n",
    "    this_res_dict = res_dict[idx_sim]"
   ]
  },
  {
   "cell_type": "code",
   "execution_count": 40,
   "id": "6e57d01a",
   "metadata": {},
   "outputs": [
    {
     "data": {
      "text/plain": [
       "array([1, 5, 9])"
      ]
     },
     "execution_count": 40,
     "metadata": {},
     "output_type": "execute_result"
    }
   ],
   "source": [
    "np.arange(1,9+2,4)"
   ]
  },
  {
   "cell_type": "code",
   "execution_count": null,
   "id": "3c82f117",
   "metadata": {},
   "outputs": [],
   "source": []
  }
 ],
 "metadata": {
  "kernelspec": {
   "display_name": "Python 3 (ipykernel)",
   "language": "python",
   "name": "python3"
  },
  "language_info": {
   "codemirror_mode": {
    "name": "ipython",
    "version": 3
   },
   "file_extension": ".py",
   "mimetype": "text/x-python",
   "name": "python",
   "nbconvert_exporter": "python",
   "pygments_lexer": "ipython3",
   "version": "3.9.16"
  }
 },
 "nbformat": 4,
 "nbformat_minor": 5
}
