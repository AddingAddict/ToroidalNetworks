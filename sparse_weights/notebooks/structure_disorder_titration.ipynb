{
 "cells": [
  {
   "cell_type": "code",
   "execution_count": 1,
   "id": "3f32eb59",
   "metadata": {},
   "outputs": [],
   "source": [
    "from importlib import reload\n",
    "import sys\n",
    "import os\n",
    "sys.path.insert(0, './../scripts')"
   ]
  },
  {
   "cell_type": "code",
   "execution_count": 2,
   "id": "4c739a0c",
   "metadata": {},
   "outputs": [],
   "source": [
    "import pickle\n",
    "import numpy as np\n",
    "import scipy\n",
    "import torch\n",
    "import matplotlib as mpl\n",
    "from matplotlib import cm\n",
    "import matplotlib.pyplot as plt\n",
    "from mpl_toolkits.axes_grid1 import make_axes_locatable\n",
    "from matplotlib.figure import figaspect\n",
    "import time\n",
    "\n",
    "import base_network as base_net\n",
    "import ring_network as network\n",
    "import sim_util as su\n",
    "import ricciardi as ric\n",
    "import integrate as integ\n",
    "\n",
    "def imshowbar(fig,ax,A,**kwargs):\n",
    "    imsh = ax.imshow(A,**kwargs)\n",
    "    divider = make_axes_locatable(ax)\n",
    "    cax = divider.append_axes('right', size='5%', pad=0.05)\n",
    "    cbar = fig.colorbar(imsh, cax=cax, orientation='vertical')\n",
    "    return cbar"
   ]
  },
  {
   "cell_type": "markdown",
   "id": "15907edf",
   "metadata": {},
   "source": [
    "# Get best fit parameters"
   ]
  },
  {
   "cell_type": "code",
   "execution_count": 3,
   "id": "50fe9673",
   "metadata": {},
   "outputs": [
    {
     "name": "stdout",
     "output_type": "stream",
     "text": [
      "Loading previously saved nonlinearity\n",
      "Using cpu\n"
     ]
    }
   ],
   "source": [
    "id = (133, 0)\n",
    "with open('./../results/results_ring_'+str(id[0])+'.pkl', 'rb') as handle:\n",
    "    res_dict = pickle.load(handle)[id[1]]\n",
    "    prms = res_dict['prms']\n",
    "    eX = res_dict['best_monk_eX']\n",
    "    bX = res_dict['best_monk_bX']\n",
    "    aXs = res_dict['best_monk_aXs']\n",
    "    K = prms['K']\n",
    "    SoriE = prms['SoriE']\n",
    "    SoriI = prms['SoriI']\n",
    "    SoriF = prms['SoriF']\n",
    "#     J = prms['J']\n",
    "#     beta = prms['beta']\n",
    "#     gE = prms['gE']\n",
    "#     gI = prms['gI']\n",
    "#     hE = prms['hE']\n",
    "#     hI = prms['hI']\n",
    "    L = prms['L']\n",
    "#     CVL = prms['CVL']\n",
    "\n",
    "ri = ric.Ricciardi()\n",
    "ri.set_up_nonlinearity('./../scripts/phi_int')\n",
    "ri.set_up_nonlinearity_tensor()\n",
    "\n",
    "NtE = 50\n",
    "Nt = NtE*ri.tE\n",
    "dt = ri.tI/5\n",
    "T = torch.linspace(0,8*Nt,round(8*Nt/dt)+1)\n",
    "mask_time = T>(4*Nt)\n",
    "T_mask = T.cpu().numpy()[mask_time]\n",
    "\n",
    "N = 10000\n",
    "Nori = 20\n",
    "NE = 4*(N//Nori)//5\n",
    "NI = 1*(N//Nori)//5\n",
    "\n",
    "this_prms = prms.copy()\n",
    "this_prms['Nori'] = Nori\n",
    "this_prms['NE'] = NE\n",
    "this_prms['NI'] = NI"
   ]
  },
  {
   "cell_type": "markdown",
   "id": "e282470e",
   "metadata": {},
   "source": [
    "# Simulate unstructured network, where peak input goes to all locations"
   ]
  },
  {
   "cell_type": "code",
   "execution_count": null,
   "id": "3cb516f8",
   "metadata": {},
   "outputs": [
    {
     "name": "stdout",
     "output_type": "stream",
     "text": [
      "Using cpu\n",
      "Generating disorder took  6.104083999999999  s\n",
      "\n",
      "Integrating base network took  1173.115717  s\n",
      "\n"
     ]
    }
   ],
   "source": [
    "reload(su)\n",
    "\n",
    "start = time.process_time()\n",
    "\n",
    "net,M,H,B,LAS,eps = su.gen_ring_disorder_tensor(0,this_prms,eX)\n",
    "\n",
    "print(\"Generating disorder took \",time.process_time() - start,\" s\")\n",
    "print('')\n",
    "\n",
    "start = time.process_time()\n",
    "\n",
    "base_sol,_ = integ.sim_dyn_tensor(ri,T,0.0,M,((bX+aXs[-1])*B)*eps,LAS,net.C_conds[0],mult_tau=True)\n",
    "base_rates = torch.mean(base_sol[:,mask_time],axis=1).cpu().numpy()\n",
    "base_dynas = base_sol[:,mask_time].cpu().numpy()\n",
    "\n",
    "np.save('unstruct_base_sol',base_sol.cpu().numpy())\n",
    "\n",
    "print(\"Integrating base network took \",time.process_time() - start,\" s\")\n",
    "print('')\n",
    "\n",
    "start = time.process_time()\n",
    "\n",
    "opto_sol,_ = integ.sim_dyn_tensor(ri,T,1.0,M,((bX+aXs[-1])*B)*eps,LAS,net.C_conds[0],mult_tau=True)\n",
    "opto_rates = torch.mean(opto_sol[:,mask_time],axis=1).cpu().numpy()\n",
    "opto_dynas = opto_sol[:,mask_time].cpu().numpy()\n",
    "\n",
    "np.save('unstruct_opto_sol',opto_sol.cpu().numpy())\n",
    "\n",
    "print(\"Integrating opto network took \",time.process_time() - start,\" s\")\n",
    "print('')\n",
    "\n",
    "# device = torch.device('cuda' if torch.cuda.is_available() else 'cpu')\n",
    "# base_sol = torch.from_numpy(np.load('unstruct_base_sol.npy')).to(device)\n",
    "# base_rates = torch.mean(base_sol[:,mask_time],axis=1).cpu().numpy()\n",
    "# base_dynas = base_sol[:,mask_time].cpu().numpy()\n",
    "# opto_sol = torch.from_numpy(np.load('unstruct_opto_sol.npy')).to(device)\n",
    "# opto_rates = torch.mean(opto_sol[:,mask_time],axis=1).cpu().numpy()\n",
    "# opto_dynas = opto_sol[:,mask_time].cpu().numpy()"
   ]
  },
  {
   "cell_type": "code",
   "execution_count": null,
   "id": "baf6b592",
   "metadata": {},
   "outputs": [],
   "source": [
    "fig,axs = plt.subplots(2,2,figsize=(8,8),dpi=150,sharex=True,sharey=True)\n",
    "\n",
    "axs[0,0].plot(T_mask,base_dynas[net.C_all[0],:][::80,:].T,lw=0.5)\n",
    "axs[0,1].plot(T_mask,opto_dynas[net.C_all[0],:][::80,:].T,lw=0.5)\n",
    "axs[1,0].plot(T_mask,base_dynas[net.C_all[1],:][::20,:].T,lw=0.5)\n",
    "axs[1,1].plot(T_mask,opto_dynas[net.C_all[1],:][::20,:].T,lw=0.5)\n",
    "\n",
    "axs[0,0].set_xlim(min(T_mask),max(T_mask))\n",
    "axs[0,0].set_ylim(0,None)\n",
    "\n",
    "axs[1,0].set_xlabel('Simulation Time (s)',fontsize=12)\n",
    "axs[1,1].set_xlabel('Simulation Time (s)',fontsize=12)\n",
    "\n",
    "axs[0,0].set_ylabel('Excitatory Firing Rates (spk/s)',fontsize=12)\n",
    "axs[1,0].set_ylabel('Inhibitory Firing Rates (spk/s)',fontsize=12)\n",
    "\n",
    "axs[0,0].set_title('Visually Induced',fontsize=16)\n",
    "axs[0,1].set_title('Vis+Optically Induced',fontsize=16)\n",
    "\n",
    "fig.tight_layout()\n",
    "fig.savefig('./../plots/time_discr')"
   ]
  },
  {
   "cell_type": "code",
   "execution_count": null,
   "id": "23f2be15",
   "metadata": {},
   "outputs": [],
   "source": [
    "print(np.mean(base_rates))\n",
    "print(np.mean(opto_rates))\n",
    "print(np.mean(opto_rates-base_rates))\n",
    "print()\n",
    "print(np.std(base_rates))\n",
    "print(np.std(opto_rates))\n",
    "print(np.std(opto_rates-base_rates))\n",
    "print()\n",
    "print(np.cov(base_rates,opto_rates-base_rates)[0,1] / np.var(opto_rates-base_rates))"
   ]
  },
  {
   "cell_type": "markdown",
   "id": "4761258d",
   "metadata": {},
   "source": [
    "# Find level of increased disorder that gives reshuffling"
   ]
  },
  {
   "cell_type": "code",
   "execution_count": null,
   "id": "0dd1c03e",
   "metadata": {},
   "outputs": [],
   "source": [
    "disord_factor = 2.0\n",
    "\n",
    "disord_prms = this_prms.copy()\n",
    "disord_prms['K'] = int(this_prms['K']/disord_factor)\n",
    "disord_prms['J'] = this_prms['J']*(this_prms['K']/disord_prms['K'])\n",
    "\n",
    "reload(su)\n",
    "\n",
    "start = time.process_time()\n",
    "\n",
    "net,M,H,B,LAS,eps = su.gen_ring_disorder_tensor(0,disord_prms,eX)\n",
    "# net,M,H,B,LAS,eps = su.gen_ring_disorder_tensor(0,disord_prms,eX*disord_factor)\n",
    "\n",
    "print(\"Generating disorder took \",time.process_time() - start,\" s\")\n",
    "print('')\n",
    "\n",
    "start = time.process_time()\n",
    "\n",
    "base_sol,_ = integ.sim_dyn_tensor(ri,T,0.0,M,((bX+aXs[-1])*B)*eps,LAS,net.C_conds[0],mult_tau=True,max_min=60)\n",
    "base_rates = torch.mean(base_sol[:,mask_time],axis=1).cpu().numpy()\n",
    "base_dynas = base_sol[:,mask_time].cpu().numpy()\n",
    "\n",
    "np.save('unstruct_base_sol_more_disord',base_sol.cpu().numpy())\n",
    "\n",
    "print(\"Integrating base network took \",time.process_time() - start,\" s\")\n",
    "print('')\n",
    "\n",
    "start = time.process_time()\n",
    "\n",
    "opto_sol,_ = integ.sim_dyn_tensor(ri,T,1.0,M,((bX+aXs[-1])*B)*eps,LAS,net.C_conds[0],mult_tau=True,max_min=60)\n",
    "opto_rates = torch.mean(opto_sol[:,mask_time],axis=1).cpu().numpy()\n",
    "opto_dynas = opto_sol[:,mask_time].cpu().numpy()\n",
    "np.save('unstruct_opto_sol_more_disord',opto_sol.cpu().numpy())\n",
    "\n",
    "print(\"Integrating opto network took \",time.process_time() - start,\" s\")\n",
    "print('')\n",
    "\n",
    "# device = torch.device('cuda' if torch.cuda.is_available() else 'cpu')\n",
    "# base_sol = torch.from_numpy(np.load('unstruct_base_sol_more_disord.npy')).to(device)\n",
    "# base_rates = torch.mean(base_sol[:,mask_time],axis=1).cpu().numpy()\n",
    "# base_dynas = base_sol[:,mask_time].cpu().numpy()\n",
    "# opto_sol = torch.from_numpy(np.load('unstruct_opto_sol_more_disord.npy')).to(device)\n",
    "# opto_rates = torch.mean(opto_sol[:,mask_time],axis=1).cpu().numpy()\n",
    "# opto_dynas = opto_sol[:,mask_time].cpu().numpy()"
   ]
  },
  {
   "cell_type": "code",
   "execution_count": null,
   "id": "849f642b",
   "metadata": {},
   "outputs": [],
   "source": [
    "fig,axs = plt.subplots(2,2,figsize=(8,8),dpi=150,sharex=True,sharey=True)\n",
    "\n",
    "axs[0,0].plot(T_mask,base_dynas[net.C_all[0],:][::80,:].T,lw=0.5)\n",
    "axs[0,1].plot(T_mask,opto_dynas[net.C_all[0],:][::80,:].T,lw=0.5)\n",
    "axs[1,0].plot(T_mask,base_dynas[net.C_all[1],:][::20,:].T,lw=0.5)\n",
    "axs[1,1].plot(T_mask,opto_dynas[net.C_all[1],:][::20,:].T,lw=0.5)\n",
    "\n",
    "axs[0,0].set_xlim(min(T_mask),max(T_mask))\n",
    "axs[0,0].set_ylim(0,None)\n",
    "\n",
    "axs[1,0].set_xlabel('Simulation Time (s)',fontsize=12)\n",
    "axs[1,1].set_xlabel('Simulation Time (s)',fontsize=12)\n",
    "\n",
    "axs[0,0].set_ylabel('Excitatory Firing Rates (spk/s)',fontsize=12)\n",
    "axs[1,0].set_ylabel('Inhibitory Firing Rates (spk/s)',fontsize=12)\n",
    "\n",
    "axs[0,0].set_title('Visually Induced',fontsize=16)\n",
    "axs[0,1].set_title('Vis+Optically Induced',fontsize=16)\n",
    "\n",
    "fig.tight_layout()\n",
    "fig.savefig('./../plots/time_discr')"
   ]
  },
  {
   "cell_type": "code",
   "execution_count": null,
   "id": "56135c76",
   "metadata": {},
   "outputs": [],
   "source": [
    "print(np.mean(base_rates))\n",
    "print(np.mean(opto_rates))\n",
    "print(np.mean(opto_rates-base_rates))\n",
    "print()\n",
    "print(np.std(base_rates))\n",
    "print(np.std(opto_rates))\n",
    "print(np.std(opto_rates-base_rates))\n",
    "print()\n",
    "print(np.cov(base_rates,opto_rates-base_rates)[0,1] / np.var(opto_rates-base_rates))"
   ]
  },
  {
   "cell_type": "code",
   "execution_count": 9,
   "id": "507e570f",
   "metadata": {},
   "outputs": [
    {
     "name": "stdout",
     "output_type": "stream",
     "text": [
      "55.378613\n",
      "60.670338\n",
      "5.2917233\n",
      "\n",
      "58.96881\n",
      "66.41664\n",
      "36.834232\n",
      "\n",
      "-0.15586877259185933\n"
     ]
    }
   ],
   "source": [
    "print(np.mean(base_rates))\n",
    "print(np.mean(opto_rates))\n",
    "print(np.mean(opto_rates-base_rates))\n",
    "print()\n",
    "print(np.std(base_rates))\n",
    "print(np.std(opto_rates))\n",
    "print(np.std(opto_rates-base_rates))\n",
    "print()\n",
    "print(np.cov(base_rates,opto_rates-base_rates)[0,1] / np.var(opto_rates-base_rates))"
   ]
  },
  {
   "cell_type": "code",
   "execution_count": 20,
   "id": "bcc7fe34",
   "metadata": {},
   "outputs": [
    {
     "data": {
      "text/plain": [
       "array([1.        , 1.14720269, 1.31607401, 1.50980365, 1.73205081,\n",
       "       1.98701335, 2.27950706, 2.61505663, 3.        ])"
      ]
     },
     "execution_count": 20,
     "metadata": {},
     "output_type": "execute_result"
    }
   ],
   "source": [
    "3**(np.arange(0,8+1)/8)"
   ]
  },
  {
   "cell_type": "code",
   "execution_count": 18,
   "id": "c075df58",
   "metadata": {},
   "outputs": [
    {
     "data": {
      "text/plain": [
       "array([0.   , 0.125, 0.25 , 0.375, 0.5  , 0.625, 0.75 , 0.875, 1.   ])"
      ]
     },
     "execution_count": 18,
     "metadata": {},
     "output_type": "execute_result"
    }
   ],
   "source": [
    "np.arange(0,8+1)/8"
   ]
  },
  {
   "cell_type": "code",
   "execution_count": null,
   "id": "1fbc069a",
   "metadata": {},
   "outputs": [],
   "source": []
  }
 ],
 "metadata": {
  "kernelspec": {
   "display_name": "Python 3 (ipykernel)",
   "language": "python",
   "name": "python3"
  },
  "language_info": {
   "codemirror_mode": {
    "name": "ipython",
    "version": 3
   },
   "file_extension": ".py",
   "mimetype": "text/x-python",
   "name": "python",
   "nbconvert_exporter": "python",
   "pygments_lexer": "ipython3",
   "version": "3.11.4"
  }
 },
 "nbformat": 4,
 "nbformat_minor": 5
}
