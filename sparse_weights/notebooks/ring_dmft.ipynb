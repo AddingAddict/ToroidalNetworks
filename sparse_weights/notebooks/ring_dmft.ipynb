{
 "cells": [
  {
   "cell_type": "code",
   "execution_count": 1,
   "id": "13c75c65",
   "metadata": {},
   "outputs": [],
   "source": [
    "from importlib import reload\n",
    "import sys\n",
    "import os\n",
    "sys.path.insert(0, './../scripts')"
   ]
  },
  {
   "cell_type": "code",
   "execution_count": 2,
   "id": "8f5720ef",
   "metadata": {},
   "outputs": [],
   "source": [
    "import h5py\n",
    "import pickle\n",
    "import numpy as np\n",
    "import torch\n",
    "import torch_interpolations as torchitp\n",
    "from torchquad import Simpson, set_up_backend\n",
    "from scipy.interpolate import RegularGridInterpolator\n",
    "from scipy.integrate import quad\n",
    "import matplotlib as mpl\n",
    "from matplotlib import cm\n",
    "import matplotlib.pyplot as plt\n",
    "from mpl_toolkits.axes_grid1 import make_axes_locatable\n",
    "from matplotlib.figure import figaspect\n",
    "import time\n",
    "\n",
    "import ring_network as network\n",
    "import sim_util as su\n",
    "import ricciardi as ric\n",
    "import integrate as integ\n",
    "\n",
    "def imshowbar(fig,ax,A,**kwargs):\n",
    "    imsh = ax.imshow(A,**kwargs)\n",
    "    divider = make_axes_locatable(ax)\n",
    "    cax = divider.append_axes('right', size='5%', pad=0.05)\n",
    "    fig.colorbar(imsh, cax=cax, orientation='vertical')"
   ]
  },
  {
   "cell_type": "markdown",
   "id": "bd90af7f",
   "metadata": {},
   "source": [
    "# Read itp.h5, Interpolate Base Moments"
   ]
  },
  {
   "cell_type": "code",
   "execution_count": 4,
   "id": "fbcebd69",
   "metadata": {},
   "outputs": [],
   "source": [
    "def μtox(μ):\n",
    "    return np.sign(μ/100-0.2)*np.abs(μ/100-0.2)**0.5\n",
    "\n",
    "def xtoμ(x):\n",
    "    return 100*(np.sign(x)*np.abs(x)**2.0+0.2)\n",
    "\n",
    "def extract_itp(file):\n",
    "    f = h5py.File(file, 'r')\n",
    "    \n",
    "    φxrange = list(f['PhItp']['xrange'])\n",
    "    φxs = np.linspace(φxrange[0],φxrange[1],round(φxrange[2]))\n",
    "    φEs = np.array(f['PhItp']['rp1']['Phs'])\n",
    "    φIs = np.array(f['PhItp']['rp2']['Phs'])\n",
    "    \n",
    "    Mxrange = list(f['MItp']['xrange'])\n",
    "    Mxs = np.linspace(Mxrange[0],Mxrange[1],round(Mxrange[2]))\n",
    "    Mσrange = list(f['MItp']['srange'])\n",
    "    Mσs = np.linspace(Mσrange[0],Mσrange[1],round(Mσrange[2]))\n",
    "    MEs = np.array(f['MItp']['rp1']['Ms'])\n",
    "    MIs = np.array(f['MItp']['rp2']['Ms'])\n",
    "    \n",
    "    Cxrange = list(f['CItp']['xrange'])\n",
    "    Cxs = np.linspace(Cxrange[0],Cxrange[1],round(Cxrange[2]))\n",
    "    Cσrange = list(f['CItp']['srange'])\n",
    "    Cσs = np.linspace(Cσrange[0],Cσrange[1],round(Cσrange[2]))\n",
    "    Ccrange = list(f['CItp']['crange'])\n",
    "    Ccs = np.linspace(Ccrange[0],Ccrange[1],round(Ccrange[2]))\n",
    "    CEs = np.array(f['CItp']['rp1']['Cs'])\n",
    "    CIs = np.array(f['CItp']['rp2']['Cs'])\n",
    "    \n",
    "    φE_itp = RegularGridInterpolator((φxs,),φEs,bounds_error=False,fill_value=None)\n",
    "    φI_itp = RegularGridInterpolator((φxs,),φIs,bounds_error=False,fill_value=None)\n",
    "    \n",
    "    ME_itp = RegularGridInterpolator((Mσs,Mxs),MEs,bounds_error=False,fill_value=None)\n",
    "    MI_itp = RegularGridInterpolator((Mσs,Mxs),MIs,bounds_error=False,fill_value=None)\n",
    "    \n",
    "    CE_itp = RegularGridInterpolator((Ccs,Cσs,Cxs),CEs,bounds_error=False,fill_value=None)\n",
    "    CI_itp = RegularGridInterpolator((Ccs,Cσs,Cxs),CIs,bounds_error=False,fill_value=None)\n",
    "    \n",
    "    base_itp_dict = {}\n",
    "    base_itp_dict['φE_itp'] = φE_itp\n",
    "    base_itp_dict['φI_itp'] = φI_itp\n",
    "    base_itp_dict['ME_itp'] = ME_itp\n",
    "    base_itp_dict['MI_itp'] = MI_itp\n",
    "    base_itp_dict['CE_itp'] = CE_itp\n",
    "    base_itp_dict['CI_itp'] = CI_itp\n",
    "    \n",
    "    with open('base_itp'+'.pkl', 'wb') as handle:\n",
    "        pickle.dump(base_itp_dict,handle)\n",
    "    \n",
    "    def φE(μ):\n",
    "        try:\n",
    "            return φE_itp(μtox(1e3*μ)[:,None])\n",
    "        except:\n",
    "            return φE_itp([μtox(1e3*μ)])\n",
    "    def φI(μ):\n",
    "        try:\n",
    "            return φI_itp(μtox(1e3*μ)[:,None])\n",
    "        except:\n",
    "            return φI_itp([μtox(1e3*μ)])\n",
    "    \n",
    "    def ME(μ,Σ):\n",
    "        return ME_itp(np.vstack((1e3*np.sqrt(Σ),μtox(1e3*μ))).T)\n",
    "    def MI(μ,Σ):\n",
    "        return MI_itp(np.vstack((1e3*np.sqrt(Σ),μtox(1e3*μ))).T)\n",
    "    \n",
    "    def CE(μ,Σ,k):\n",
    "        c = np.sign(k)*np.fmin(np.abs(k)/Σ,1)\n",
    "        return CE_itp(np.vstack((c,1e3*np.sqrt(Σ),μtox(1e3*μ))).T)\n",
    "    def CI(μ,Σ,k):\n",
    "        c = np.sign(k)*np.fmin(np.abs(k)/Σ,1)\n",
    "        return CI_itp(np.vstack((c,1e3*np.sqrt(Σ),μtox(1e3*μ))).T)\n",
    "    \n",
    "    return φE,φI,ME,MI,CE,CI"
   ]
  },
  {
   "cell_type": "code",
   "execution_count": 5,
   "id": "4c7f2a56",
   "metadata": {},
   "outputs": [],
   "source": [
    "φE,φI,ME,MI,CE,CI = extract_itp('itp.h5')"
   ]
  },
  {
   "cell_type": "markdown",
   "id": "2be98c8e",
   "metadata": {},
   "source": [
    "# Define Base Ring DMFT Functions"
   ]
  },
  {
   "cell_type": "code",
   "execution_count": null,
   "id": "6aa49815",
   "metadata": {},
   "outputs": [],
   "source": [
    "function dmft()"
   ]
  }
 ],
 "metadata": {
  "kernelspec": {
   "display_name": "Python 3 (ipykernel)",
   "language": "python",
   "name": "python3"
  },
  "language_info": {
   "codemirror_mode": {
    "name": "ipython",
    "version": 3
   },
   "file_extension": ".py",
   "mimetype": "text/x-python",
   "name": "python",
   "nbconvert_exporter": "python",
   "pygments_lexer": "ipython3",
   "version": "3.9.16"
  }
 },
 "nbformat": 4,
 "nbformat_minor": 5
}
