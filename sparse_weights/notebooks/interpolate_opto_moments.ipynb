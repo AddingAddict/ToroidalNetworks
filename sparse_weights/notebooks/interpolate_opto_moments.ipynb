{
 "cells": [
  {
   "cell_type": "code",
   "execution_count": 1,
   "id": "87a4b642",
   "metadata": {},
   "outputs": [],
   "source": [
    "from importlib import reload\n",
    "import sys\n",
    "import os\n",
    "sys.path.insert(0, './../scripts')"
   ]
  },
  {
   "cell_type": "code",
   "execution_count": 2,
   "id": "3506fab0",
   "metadata": {},
   "outputs": [],
   "source": [
    "import h5py\n",
    "import pickle\n",
    "import numpy as np\n",
    "import torch\n",
    "import torch_interpolations as torchitp\n",
    "from torchquad import Simpson, set_up_backend\n",
    "from scipy.interpolate import RegularGridInterpolator\n",
    "from scipy.integrate import quad\n",
    "import matplotlib as mpl\n",
    "from matplotlib import cm\n",
    "import matplotlib.pyplot as plt\n",
    "from mpl_toolkits.axes_grid1 import make_axes_locatable\n",
    "from matplotlib.figure import figaspect\n",
    "import time\n",
    "\n",
    "import spat_ori_network as network\n",
    "import sim_util as su\n",
    "import ricciardi as ric\n",
    "import integrate as integ\n",
    "\n",
    "def imshowbar(fig,ax,A,**kwargs):\n",
    "    imsh = ax.imshow(A,**kwargs)\n",
    "    divider = make_axes_locatable(ax)\n",
    "    cax = divider.append_axes('right', size='5%', pad=0.05)\n",
    "    fig.colorbar(imsh, cax=cax, orientation='vertical')"
   ]
  },
  {
   "cell_type": "markdown",
   "id": "9473a5eb",
   "metadata": {},
   "source": [
    "# Read itp.h5, Extract Ranges and E/I Moment Values"
   ]
  },
  {
   "cell_type": "code",
   "execution_count": 3,
   "id": "0c506f1f",
   "metadata": {},
   "outputs": [],
   "source": [
    "def extract_moments(file):\n",
    "    f = h5py.File(file, 'r')\n",
    "    \n",
    "    ranges_dict = {}\n",
    "    for key in ['Ph','M','C','PhL','ML','CL']:\n",
    "        ranges_dict[key] = {}\n",
    "        ranges_dict[key]['xrange'] = list(f[key+'Itp']['xrange'])\n",
    "    for key in ['M','C','ML','CL']:\n",
    "        ranges_dict[key]['σrange'] = list(f[key+'Itp']['srange'])\n",
    "    for key in ['C','CL']:\n",
    "        ranges_dict[key]['crange'] = list(f[key+'Itp']['crange'])\n",
    "        \n",
    "    with open('./../results/itp_ranges'+'.pkl', 'wb') as handle:\n",
    "        pickle.dump(ranges_dict,handle)\n",
    "        \n",
    "    for key in ['Ph','M','C']:\n",
    "        for idx,ctype in enumerate(['E','I']):\n",
    "            np.save('./../results/'+key+ctype+'_itp',\n",
    "                    np.array(f[key+'Itp']['rp'+str(idx+1)][key+'s']).astype(np.float32))\n",
    "\n",
    "extract_moments('itp.h5')"
   ]
  },
  {
   "cell_type": "markdown",
   "id": "faaa97d8",
   "metadata": {},
   "source": [
    "# From Ranges and E/I Moment Values, Interpolate Moments"
   ]
  },
  {
   "cell_type": "code",
   "execution_count": 4,
   "id": "78a9cad7",
   "metadata": {},
   "outputs": [],
   "source": [
    "def μtox(μ):\n",
    "    return np.sign(μ/100-0.2)*np.abs(μ/100-0.2)**0.5\n",
    "\n",
    "def xtoμ(x):\n",
    "    return 100*(np.sign(x)*np.abs(x)**2.0+0.2)\n",
    "    \n",
    "def itp_moments():\n",
    "    with open('./../results/itp_ranges'+'.pkl', 'rb') as handle:\n",
    "        ranges_dict = pickle.load(handle)\n",
    "    \n",
    "    φxrange = ranges_dict['Ph']['xrange']\n",
    "    φxs = np.linspace(φxrange[0],φxrange[1],round(φxrange[2])).astype(np.float32)\n",
    "    φEs = np.load('./../results/PhE_itp.npy').astype(np.float32)\n",
    "    φIs = np.load('./../results/PhI_itp.npy').astype(np.float32)\n",
    "    \n",
    "    Mxrange = ranges_dict['M']['xrange']\n",
    "    Mxs = np.linspace(Mxrange[0],Mxrange[1],round(Mxrange[2])).astype(np.float32)\n",
    "    Mσrange = ranges_dict['M']['σrange']\n",
    "    Mσs = np.linspace(Mσrange[0],Mσrange[1],round(Mσrange[2])).astype(np.float32)\n",
    "    MEs = np.load('./../results/ME_itp.npy').astype(np.float32)\n",
    "    MIs = np.load('./../results/MI_itp.npy').astype(np.float32)\n",
    "    \n",
    "    Cxrange = ranges_dict['C']['xrange']\n",
    "    Cxs = np.linspace(Cxrange[0],Cxrange[1],round(Cxrange[2])).astype(np.float32)\n",
    "    Cσrange = ranges_dict['C']['σrange']\n",
    "    Cσs = np.linspace(Cσrange[0],Cσrange[1],round(Cσrange[2])).astype(np.float32)\n",
    "    Ccrange = ranges_dict['C']['crange']\n",
    "    Ccs = np.linspace(Ccrange[0],Ccrange[1],round(Ccrange[2])).astype(np.float32)\n",
    "    CEs = np.load('./../results/CE_itp.npy').astype(np.float32)\n",
    "    CIs = np.load('./../results/CI_itp.npy').astype(np.float32)\n",
    "    \n",
    "    φE_itp = RegularGridInterpolator((φxs,),φEs,bounds_error=False,fill_value=None)\n",
    "    φI_itp = RegularGridInterpolator((φxs,),φIs,bounds_error=False,fill_value=None)\n",
    "    \n",
    "    ME_itp = RegularGridInterpolator((Mσs,Mxs),MEs,bounds_error=False,fill_value=None)\n",
    "    MI_itp = RegularGridInterpolator((Mσs,Mxs),MIs,bounds_error=False,fill_value=None)\n",
    "    \n",
    "    CE_itp = RegularGridInterpolator((Ccs,Cσs,Cxs),CEs,bounds_error=False,fill_value=None)\n",
    "    CI_itp = RegularGridInterpolator((Ccs,Cσs,Cxs),CIs,bounds_error=False,fill_value=None)\n",
    "    \n",
    "    base_itp_dict = {}\n",
    "    base_itp_dict['φE_itp'] = φE_itp\n",
    "    base_itp_dict['φI_itp'] = φI_itp\n",
    "    base_itp_dict['ME_itp'] = ME_itp\n",
    "    base_itp_dict['MI_itp'] = MI_itp\n",
    "    base_itp_dict['CE_itp'] = CE_itp\n",
    "    base_itp_dict['CI_itp'] = CI_itp\n",
    "    \n",
    "    with open('base_itp'+'.pkl', 'wb') as handle:\n",
    "        pickle.dump(base_itp_dict,handle)\n",
    "    \n",
    "    def φE(μ):\n",
    "        try:\n",
    "            return φE_itp(μtox(1e3*μ)[:,None])\n",
    "        except:\n",
    "            return φE_itp([μtox(1e3*μ)])\n",
    "    def φI(μ):\n",
    "        try:\n",
    "            return φI_itp(μtox(1e3*μ)[:,None])\n",
    "        except:\n",
    "            return φI_itp([μtox(1e3*μ)])\n",
    "    \n",
    "    def ME(μ,Σ):\n",
    "        return ME_itp(np.row_stack(list(np.broadcast(1e3*np.sqrt(Σ),μtox(1e3*μ)))))\n",
    "    def MI(μ,Σ):\n",
    "        return MI_itp(np.row_stack(list(np.broadcast(1e3*np.sqrt(Σ),μtox(1e3*μ)))))\n",
    "    \n",
    "    def CE(μ,Σ,k):\n",
    "        c = np.sign(k)*np.fmin(np.abs(k)/Σ,1)\n",
    "        return CE_itp(np.row_stack(list(np.broadcast(c,1e3*np.sqrt(Σ),μtox(1e3*μ)))))\n",
    "    def CI(μ,Σ,k):\n",
    "        c = np.sign(k)*np.fmin(np.abs(k)/Σ,1)\n",
    "        return CI_itp(np.row_stack(list(np.broadcast(c,1e3*np.sqrt(Σ),μtox(1e3*μ)))))\n",
    "    \n",
    "    return φE,φI,ME,MI,CE,CI"
   ]
  },
  {
   "cell_type": "code",
   "execution_count": 5,
   "id": "678af1e4",
   "metadata": {},
   "outputs": [],
   "source": [
    "def μtox_torch(μ):\n",
    "    return torch.sign(μ/100-0.2)*torch.abs(μ/100-0.2)**0.5\n",
    "\n",
    "def xtoμ_torch(x):\n",
    "    return 100*(torch.sign(x)*torch.abs(x)**2.0+0.2)\n",
    "\n",
    "def itp_moments_torch():\n",
    "    device = torch.device('cuda' if torch.cuda.is_available() else 'cpu')\n",
    "    \n",
    "    with open('./../results/itp_ranges'+'.pkl', 'rb') as handle:\n",
    "        ranges_dict = pickle.load(handle)\n",
    "    \n",
    "    φxrange = ranges_dict['Ph']['xrange']\n",
    "    φxs = np.linspace(φxrange[0],φxrange[1],round(φxrange[2])).astype(np.float32)\n",
    "    φEs = np.load('./../results/PhE_itp.npy').astype(np.float32)\n",
    "    φIs = np.load('./../results/PhI_itp.npy').astype(np.float32)\n",
    "    φxs_torch = torch.from_numpy(φxs).to(device)\n",
    "    φEs_torch = torch.from_numpy(φEs).to(device)\n",
    "    φIs_torch = torch.from_numpy(φIs).to(device)\n",
    "\n",
    "    Mxrange = ranges_dict['M']['xrange']\n",
    "    Mxs = np.linspace(Mxrange[0],Mxrange[1],round(Mxrange[2])).astype(np.float32)\n",
    "    Mσrange = ranges_dict['M']['σrange']\n",
    "    Mσs = np.linspace(Mσrange[0],Mσrange[1],round(Mσrange[2])).astype(np.float32)\n",
    "    MEs = np.load('./../results/ME_itp.npy').astype(np.float32)\n",
    "    MIs = np.load('./../results/MI_itp.npy').astype(np.float32)\n",
    "    Mxs_torch = torch.from_numpy(Mxs).to(device)\n",
    "    Mσs_torch = torch.from_numpy(Mσs).to(device)\n",
    "    MEs_torch = torch.from_numpy(MEs).to(device)\n",
    "    MIs_torch = torch.from_numpy(MIs).to(device)\n",
    "\n",
    "    Cxrange = ranges_dict['C']['xrange']\n",
    "    Cxs = np.linspace(Cxrange[0],Cxrange[1],round(Cxrange[2])).astype(np.float32)\n",
    "    Cσrange = ranges_dict['C']['σrange']\n",
    "    Cσs = np.linspace(Cσrange[0],Cσrange[1],round(Cσrange[2])).astype(np.float32)\n",
    "    Ccrange = ranges_dict['C']['crange']\n",
    "    Ccs = np.linspace(Ccrange[0],Ccrange[1],round(Ccrange[2])).astype(np.float32)\n",
    "    CEs = np.load('./../results/CE_itp.npy').astype(np.float32)\n",
    "    CIs = np.load('./../results/CI_itp.npy').astype(np.float32)\n",
    "    Cxs_torch = torch.from_numpy(Cxs).to(device)\n",
    "    Cσs_torch = torch.from_numpy(Cσs).to(device)\n",
    "    Ccs_torch = torch.from_numpy(Ccs).to(device)\n",
    "    CEs_torch = torch.from_numpy(CEs).to(device)\n",
    "    CIs_torch = torch.from_numpy(CIs).to(device)\n",
    "\n",
    "    φE_itp = torchitp.RegularGridInterpolator((φxs_torch,),φEs_torch)\n",
    "    φI_itp = torchitp.RegularGridInterpolator((φxs_torch,),φIs_torch)\n",
    "\n",
    "    ME_itp = torchitp.RegularGridInterpolator((Mσs_torch,Mxs_torch),MEs_torch)\n",
    "    MI_itp = torchitp.RegularGridInterpolator((Mσs_torch,Mxs_torch),MIs_torch)\n",
    "\n",
    "    CE_itp = torchitp.RegularGridInterpolator((Ccs_torch,Cσs_torch,Cxs_torch),CEs_torch)\n",
    "    CI_itp = torchitp.RegularGridInterpolator((Ccs_torch,Cσs_torch,Cxs_torch),CIs_torch)\n",
    "    \n",
    "    def φE(μ):\n",
    "        try:\n",
    "            return φE_itp(μtox_torch(1e3*μ)[None,:])\n",
    "        except:\n",
    "            return φE_itp(torch.tensor([μtox_torch(1e3*μ)]))\n",
    "    def φI(μ):\n",
    "        try:\n",
    "            return φI_itp(μtox_torch(1e3*μ)[None,:])\n",
    "        except:\n",
    "            return φI_itp(torch.tensor([μtox_torch(1e3*μ)]))\n",
    "\n",
    "    def ME(μ,Σ):\n",
    "        try:\n",
    "            return ME_itp(torch.row_stack(torch.broadcast_tensors(1e3*torch.sqrt(Σ),μtox_torch(1e3*μ))))\n",
    "        except:\n",
    "            return ME_itp(torch.tensor([[1e3*torch.sqrt(Σ)],[μtox_torch(1e3*μ)]]))\n",
    "    def MI(μ,Σ):\n",
    "        try:\n",
    "            return MI_itp(torch.row_stack(torch.broadcast_tensors(1e3*torch.sqrt(Σ),μtox_torch(1e3*μ))))\n",
    "        except:\n",
    "            return MI_itp(torch.tensor([[1e3*torch.sqrt(Σ)],[μtox_torch(1e3*μ)]]))\n",
    "    def ME_vecμ(μ,Σ):\n",
    "        return ME_itp(torch.stack((1e3*torch.sqrt(Σ)*torch.ones_like(μ),\n",
    "                                   μtox_torch(1e3*μ)),dim=0))\n",
    "    def MI_vecμ(μ,Σ):\n",
    "        return MI_itp(torch.stack((1e3*torch.sqrt(Σ)*torch.ones_like(μ),\n",
    "                                   μtox_torch(1e3*μ)),dim=0))\n",
    "\n",
    "    def CE(μ,Σ,k):\n",
    "        c = torch.sign(k)*torch.fmin(torch.abs(k)/Σ,torch.tensor(1))\n",
    "        try:\n",
    "            return CE_itp(torch.row_stack(torch.broadcast_tensors(c,1e3*torch.sqrt(Σ),μtox_torch(1e3*μ))))\n",
    "        except:\n",
    "            return CE_itp(torch.tensor([[c],[1e3*torch.sqrt(Σ)],[μtox_torch(1e3*μ)]]))\n",
    "    def CI(μ,Σ,k):\n",
    "        c = torch.sign(k)*torch.fmin(torch.abs(k)/Σ,torch.tensor(1))\n",
    "        try:\n",
    "            return CI_itp(torch.row_stack(torch.broadcast_tensors(c,1e3*torch.sqrt(Σ),μtox_torch(1e3*μ))))\n",
    "        except:\n",
    "            return CI_itp(torch.tensor([[c],[1e3*torch.sqrt(Σ)],[μtox_torch(1e3*μ)]]))\n",
    "    def CE_vecμ(μ,Σ,k):\n",
    "        c = torch.sign(k)*torch.fmin(torch.abs(k)/Σ,torch.tensor(1))\n",
    "        return CE_itp(torch.stack((c*torch.ones_like(μ),1e3*torch.sqrt(Σ)*torch.ones_like(μ),\n",
    "                                   μtox_torch(1e3*μ)),dim=0))\n",
    "    def CI_vecμ(μ,Σ,k):\n",
    "        c = torch.sign(k)*torch.fmin(torch.abs(k)/Σ,torch.tensor(1))\n",
    "        return CI_itp(torch.stack((c*torch.ones_like(μ),1e3*torch.sqrt(Σ)*torch.ones_like(μ),\n",
    "                                   μtox_torch(1e3*μ)),dim=0))\n",
    "    \n",
    "    return φE,φI,ME,MI,CE,CI,ME_vecμ,MI_vecμ,CE_vecμ,CI_vecμ"
   ]
  },
  {
   "cell_type": "code",
   "execution_count": 6,
   "id": "fca50e93",
   "metadata": {},
   "outputs": [],
   "source": [
    "φE,φI,ME,MI,CE,CI = itp_moments()\n",
    "φE_torch,φI_torch,ME_torch,MI_torch,CE_torch,CI_torch,ME_vecμ,MI_vecμ,CE_vecμ,CI_vecμ = itp_moments_torch()"
   ]
  },
  {
   "cell_type": "code",
   "execution_count": 7,
   "id": "5ca19fc2",
   "metadata": {},
   "outputs": [
    {
     "data": {
      "text/plain": [
       "[<matplotlib.lines.Line2D at 0x12f31ed30>]"
      ]
     },
     "execution_count": 7,
     "metadata": {},
     "output_type": "execute_result"
    },
    {
     "data": {
      "image/png": "[encoded data removed]",
      "text/plain": [
       "<Figure size 432x288 with 1 Axes>"
      ]
     },
     "metadata": {
      "needs_background": "light"
     },
     "output_type": "display_data"
    }
   ],
   "source": [
    "μs = np.linspace(-0.1,1,1001)\n",
    "plt.plot(μs,φE(μs),'r')\n",
    "plt.plot(μs,φI(μs),'b')"
   ]
  },
  {
   "cell_type": "code",
   "execution_count": 8,
   "id": "633fa763",
   "metadata": {},
   "outputs": [
    {
     "data": {
      "text/plain": [
       "[<matplotlib.lines.Line2D at 0x12f45a6a0>]"
      ]
     },
     "execution_count": 8,
     "metadata": {},
     "output_type": "execute_result"
    },
    {
     "data": {
      "image/png": "[encoded data removed]",
      "text/plain": [
       "<Figure size 432x288 with 1 Axes>"
      ]
     },
     "metadata": {
      "needs_background": "light"
     },
     "output_type": "display_data"
    }
   ],
   "source": [
    "μs = torch.linspace(-0.1,1,1001)\n",
    "plt.plot(μs,φE_torch(μs),'r')\n",
    "plt.plot(μs,φI_torch(μs),'b')"
   ]
  },
  {
   "cell_type": "markdown",
   "id": "7df5107f",
   "metadata": {},
   "source": [
    "# Precompute and Interpolate Opto Moments"
   ]
  },
  {
   "cell_type": "code",
   "execution_count": 9,
   "id": "c61b8cb3",
   "metadata": {},
   "outputs": [
    {
     "name": "stderr",
     "output_type": "stream",
     "text": [
      "\u001b[32m15:39:47\u001b[0m|TQ-\u001b[34mWARNING\u001b[0m| \u001b[33m\u001b[1mError enabling CUDA. cuda.is_available() returned False. CPU will be used.\u001b[0m\n"
     ]
    }
   ],
   "source": [
    "set_up_backend(\"torch\", data_type=\"float32\")\n",
    "simp = Simpson()\n",
    "\n",
    "sr2 = np.sqrt(2)\n",
    "sr2π = np.sqrt(2*np.pi)\n",
    "\n",
    "Nint = 700001\n",
    "\n",
    "def φLint(LNμ,LNσ,λL,μ):\n",
    "    return quad(lambda x: np.exp(-0.5*((np.log(x)-LNμ)/LNσ)**2)/(sr2π*LNσ*x)*φE(μ+x)[0],0,50*λL)[0]\n",
    "\n",
    "def MLint(LNμ,LNσ,λL,μ,Σ):\n",
    "    return quad(lambda x: np.exp(-0.5*((np.log(x)-LNμ)/LNσ)**2)/(sr2π*LNσ*x)*ME(μ+x,Σ)[0],0,50*λL)[0]\n",
    "\n",
    "def CLint(LNμ,LNσ,λL,μ,Σ,k):\n",
    "    return quad(lambda x: np.exp(-0.5*((np.log(x)-LNμ)/LNσ)**2)/(sr2π*LNσ*x)*CE(μ+x,Σ,k)[0],0,50*λL)[0]\n",
    "\n",
    "def φLint_torch(LNμ,LNσ,λL,μ):\n",
    "    return simp.integrate(lambda x: torch.exp(-0.5*((torch.log(x)-LNμ)/LNσ)**2)/(sr2π*LNσ*x)*φE_torch(μ+x),\n",
    "                     dim=1,N=Nint,integration_domain=[[1e-20,50*λL]],backend='torch').cpu().numpy()\n",
    "\n",
    "def MLint_torch(LNμ,LNσ,λL,μ,Σ):\n",
    "    return simp.integrate(lambda x: torch.exp(-0.5*((torch.log(x)-LNμ)/LNσ)**2)/(sr2π*LNσ*x)*ME_vecμ(μ+x,Σ),\n",
    "                     dim=1,N=Nint,integration_domain=[[1e-20,50*λL]],backend='torch').cpu().numpy()\n",
    "\n",
    "def CLint_torch(LNμ,LNσ,λL,μ,Σ,k):\n",
    "    return simp.integrate(lambda x: torch.exp(-0.5*((torch.log(x)-LNμ)/LNσ)**2)/(sr2π*LNσ*x)*CE_vecμ(μ+x,Σ,k),\n",
    "                     dim=1,N=Nint,integration_domain=[[1e-20,50*λL]],backend='torch').cpu().numpy()"
   ]
  },
  {
   "cell_type": "code",
   "execution_count": 132,
   "id": "47252904",
   "metadata": {},
   "outputs": [],
   "source": [
    "def φLitp(file,L,CVL):\n",
    "    LNΣ = np.log(1+CVL**2)\n",
    "    LNσ = np.sqrt(LNΣ)\n",
    "    LNμ = np.log(1e-3*L)-0.5*LNΣ\n",
    "        \n",
    "    f = h5py.File(file, 'r')\n",
    "    \n",
    "    φxrange = list(f['PhLItp']['xrange'])\n",
    "    φxs = np.linspace(φxrange[0],φxrange[1],round(φxrange[2]))\n",
    "    \n",
    "    φLs = np.zeros((len(φxs)))\n",
    "    \n",
    "    for x_idx,x in enumerate(φxs):\n",
    "        φLs[x_idx] = φLint(LNμ,LNσ,1e3*L,xtoμ(x)*1e-3)\n",
    "        \n",
    "    φL_itp = RegularGridInterpolator((φxs,),φLs,bounds_error=False,fill_value=None)\n",
    "    \n",
    "    def φL(μ):\n",
    "        try:\n",
    "            return φL_itp(μtox(1e3*μ)[:,None])\n",
    "        except:\n",
    "            return φL_itp([μtox(1e3*μ)])\n",
    "        \n",
    "    return φL\n",
    "\n",
    "def MLitp(file,L,CVL):\n",
    "    LNΣ = np.log(1+CVL**2)\n",
    "    LNσ = np.sqrt(LNΣ)\n",
    "    LNμ = np.log(1e-3*L)-0.5*LNΣ\n",
    "        \n",
    "    f = h5py.File(file, 'r')\n",
    "    \n",
    "    Mxrange = list(f['MLItp']['xrange'])\n",
    "    Mxs = np.linspace(Mxrange[0],Mxrange[1],round(Mxrange[2]))\n",
    "    Mσrange = list(f['MLItp']['srange'])\n",
    "    Mσs = np.linspace(Mσrange[0],Mσrange[1],round(Mσrange[2]))\n",
    "    \n",
    "    MLs = np.zeros((len(Mσs),len(Mxs)))\n",
    "    \n",
    "    for σ_idx,σ in enumerate(Mσs):\n",
    "        for x_idx,x in enumerate(Mxs):\n",
    "            MLs[σ_idx,x_idx] = MLint(LNμ,LNσ,1e3*L,xtoμ(x)*1e-3,(σ*1e-3)**2)\n",
    "        \n",
    "    ML_itp = RegularGridInterpolator((Mσs,Mxs),MLs,bounds_error=False,fill_value=None)\n",
    "    \n",
    "    def ML(μ,Σ):\n",
    "        return ML_itp(np.vstack((1e3*np.sqrt(Σ),μtox(1e3*μ))).T)\n",
    "        \n",
    "    return ML\n",
    "\n",
    "def CLitp(file,L,CVL):\n",
    "    LNΣ = np.log(1+CVL**2)\n",
    "    LNσ = np.sqrt(LNΣ)\n",
    "    LNμ = np.log(1e-3*L)-0.5*LNΣ\n",
    "        \n",
    "    f = h5py.File(file, 'r')\n",
    "    \n",
    "    Cxrange = list(f['CLItp']['xrange'])\n",
    "    Cxs = np.linspace(Cxrange[0],Cxrange[1],round(Cxrange[2]))\n",
    "    Cσrange = list(f['CLItp']['srange'])\n",
    "    Cσs = np.linspace(Cσrange[0],Cσrange[1],round(Cσrange[2]))\n",
    "    Ccrange = list(f['CLItp']['crange'])\n",
    "    Ccs = np.linspace(Ccrange[0],Ccrange[1],round(Ccrange[2]))\n",
    "    \n",
    "    CLs = np.zeros((len(Ccs),len(Cσs),len(Cxs)))\n",
    "    \n",
    "    for c_idx,c in enumerate(Ccs):\n",
    "        for σ_idx,σ in enumerate(Cσs):\n",
    "            for x_idx,x in enumerate(Cxs):\n",
    "                CLs[c_idx,σ_idx,x_idx] = CLint(LNμ,LNσ,1e3*L,xtoμ(x)*1e-3,(σ*1e-3)**2,c*(σ*1e-3)**2)\n",
    "        \n",
    "    CL_itp = RegularGridInterpolator((Ccs,Cσs,Cxs),CLs,bounds_error=False,fill_value=None)\n",
    "    \n",
    "    def CL(μ,Σ,k):\n",
    "        c = np.sign(k)*np.fmin(np.abs(k)/Σ,1)\n",
    "        return CL_itp(np.vstack((c,1e3*np.sqrt(Σ),μtox(1e3*μ))).T)\n",
    "        \n",
    "    return CL\n",
    "\n",
    "def opto_itp(file,L,CVL):\n",
    "    LNΣ = np.log(1+CVL**2)\n",
    "    LNσ = np.sqrt(LNΣ)\n",
    "    LNμ = np.log(1e-3*L)-0.5*LNΣ\n",
    "        \n",
    "    f = h5py.File(file, 'r')\n",
    "    \n",
    "    opto_itp_dict = {}\n",
    "    \n",
    "    φxrange = list(f['PhLItp']['xrange'])\n",
    "    φxs = np.linspace(φxrange[0],φxrange[1],round(φxrange[2]))\n",
    "    \n",
    "    φLs = np.zeros((len(φxs)))\n",
    "    \n",
    "    for x_idx,x in enumerate(φxs):\n",
    "        φLs[x_idx] = φLint(LNμ,LNσ,1e3*L,xtoμ(x)*1e-3)\n",
    "        \n",
    "    φL_itp = RegularGridInterpolator((φxs,),φLs,bounds_error=False,fill_value=None)\n",
    "    \n",
    "    opto_itp_dict['φL_itp'] = φL_itp\n",
    "    \n",
    "    with open('opto_itp'+'.pkl', 'wb') as handle:\n",
    "        pickle.dump(opto_itp_dict,handle)\n",
    "    \n",
    "    Mxrange = list(f['MLItp']['xrange'])\n",
    "    Mxs = np.linspace(Mxrange[0],Mxrange[1],round(Mxrange[2]))\n",
    "    Mσrange = list(f['MLItp']['srange'])\n",
    "    Mσs = np.linspace(Mσrange[0],Mσrange[1],round(Mσrange[2]))\n",
    "    \n",
    "    MLs = np.zeros((len(Mσs),len(Mxs)))\n",
    "    \n",
    "    for σ_idx,σ in enumerate(Mσs):\n",
    "        for x_idx,x in enumerate(Mxs):\n",
    "            MLs[σ_idx,x_idx] = MLint(LNμ,LNσ,1e3*L,xtoμ(x)*1e-3,(σ*1e-3)**2)\n",
    "        \n",
    "    ML_itp = RegularGridInterpolator((Mσs,Mxs),MLs,bounds_error=False,fill_value=None)\n",
    "    \n",
    "    opto_itp_dict['ML_itp'] = ML_itp\n",
    "    \n",
    "    with open('opto_itp'+'.pkl', 'wb') as handle:\n",
    "        pickle.dump(opto_itp_dict,handle)\n",
    "    \n",
    "    Cxrange = list(f['CLItp']['xrange'])\n",
    "    Cxs = np.linspace(Cxrange[0],Cxrange[1],round(Cxrange[2]))\n",
    "    Cσrange = list(f['CLItp']['srange'])\n",
    "    Cσs = np.linspace(Cσrange[0],Cσrange[1],round(Cσrange[2]))\n",
    "    Ccrange = list(f['CLItp']['crange'])\n",
    "    Ccs = np.linspace(Ccrange[0],Ccrange[1],round(Ccrange[2]))\n",
    "    \n",
    "    CLs = np.zeros((len(Ccs),len(Cσs),len(Cxs)))\n",
    "    \n",
    "    for c_idx,c in enumerate(Ccs):\n",
    "        for σ_idx,σ in enumerate(Cσs):\n",
    "            for x_idx,x in enumerate(Cxs):\n",
    "                CLs[c_idx,σ_idx,x_idx] = CLint(LNμ,LNσ,1e3*L,xtoμ(x)*1e-3,(σ*1e-3)**2,c*(σ*1e-3)**2)\n",
    "        \n",
    "    CL_itp = RegularGridInterpolator((Ccs,Cσs,Cxs),CLs,bounds_error=False,fill_value=None)\n",
    "    \n",
    "    opto_itp_dict['CL_itp'] = CL_itp\n",
    "    \n",
    "    with open('opto_itp'+'.pkl', 'wb') as handle:\n",
    "        pickle.dump(opto_itp_dict,handle)\n",
    "    \n",
    "    def φL(μ):\n",
    "        try:\n",
    "            return φL_itp(μtox(1e3*μ)[:,None])\n",
    "        except:\n",
    "            return φL_itp([μtox(1e3*μ)])\n",
    "    \n",
    "    def ML(μ,Σ):\n",
    "        return ML_itp(np.vstack((1e3*np.sqrt(Σ),μtox(1e3*μ))).T)\n",
    "    \n",
    "    def CL(μ,Σ,k):\n",
    "        c = np.sign(k)*np.fmin(np.abs(k)/Σ,1)\n",
    "        return CL_itp(np.vstack((c,1e3*np.sqrt(Σ),μtox(1e3*μ))).T)\n",
    "    \n",
    "    return φL,ML,CL"
   ]
  },
  {
   "cell_type": "code",
   "execution_count": 10,
   "id": "76ad1f4b",
   "metadata": {},
   "outputs": [],
   "source": [
    "L = 2.921457296512526\n",
    "CVL = 13.788965226643908\n",
    "λL = 1e-3*L\n",
    "LNΣ = np.log(1+CVL**2)\n",
    "LNσ = np.sqrt(LNΣ)\n",
    "LNμ = np.log(λL)-0.5*LNΣ"
   ]
  },
  {
   "cell_type": "markdown",
   "id": "f062a2d6",
   "metadata": {},
   "source": [
    "# Test Integration Times"
   ]
  },
  {
   "cell_type": "code",
   "execution_count": 11,
   "id": "810eb355",
   "metadata": {},
   "outputs": [
    {
     "name": "stdout",
     "output_type": "stream",
     "text": [
      "137.0183643316351\n",
      "31.05345106124878\n"
     ]
    }
   ],
   "source": [
    "start = time.time()\n",
    "for i in range(100):\n",
    "    φLint(LNμ,LNσ,λL,0.05)\n",
    "print(φLint(LNμ,LNσ,λL,0.05))\n",
    "print(time.time()-start)"
   ]
  },
  {
   "cell_type": "code",
   "execution_count": 12,
   "id": "d3bb85b9",
   "metadata": {},
   "outputs": [
    {
     "name": "stderr",
     "output_type": "stream",
     "text": [
      "/usr/local/lib/python3.9/site-packages/torch/functional.py:478: UserWarning: torch.meshgrid: in an upcoming release, it will be required to pass the indexing argument. (Triggered internally at  /Users/runner/work/pytorch/pytorch/pytorch/aten/src/ATen/native/TensorShape.cpp:2895.)\n",
      "  return _VF.meshgrid(tensors, **kwargs)  # type: ignore[attr-defined]\n"
     ]
    },
    {
     "name": "stdout",
     "output_type": "stream",
     "text": [
      "136.9999\n",
      "6.816816091537476\n"
     ]
    }
   ],
   "source": [
    "start = time.time()\n",
    "for i in range(100):\n",
    "    φLint_torch(LNμ,LNσ,λL,torch.tensor(0.05))\n",
    "print(φLint_torch(LNμ,LNσ,λL,torch.tensor(0.05)))\n",
    "print(time.time()-start)"
   ]
  },
  {
   "cell_type": "code",
   "execution_count": 13,
   "id": "637ccd2f",
   "metadata": {},
   "outputs": [
    {
     "name": "stdout",
     "output_type": "stream",
     "text": [
      "135.4119160901201\n",
      "20.22785782814026\n"
     ]
    }
   ],
   "source": [
    "start = time.time()\n",
    "for i in range(100):\n",
    "    MLint(LNμ,LNσ,λL,0.05,0.01**2)\n",
    "print(MLint(LNμ,LNσ,λL,0.05,0.01**2))\n",
    "print(time.time()-start)"
   ]
  },
  {
   "cell_type": "code",
   "execution_count": 14,
   "id": "aacdd05c",
   "metadata": {},
   "outputs": [
    {
     "name": "stdout",
     "output_type": "stream",
     "text": [
      "135.39368\n",
      "12.045380115509033\n"
     ]
    }
   ],
   "source": [
    "start = time.time()\n",
    "for i in range(100):\n",
    "    MLint_torch(LNμ,LNσ,λL,torch.tensor(0.05),torch.tensor(0.01**2))\n",
    "print(MLint_torch(LNμ,LNσ,λL,torch.tensor(0.05),torch.tensor(0.01**2)))\n",
    "print(time.time()-start)"
   ]
  },
  {
   "cell_type": "code",
   "execution_count": null,
   "id": "57a19e6c",
   "metadata": {},
   "outputs": [],
   "source": []
  }
 ],
 "metadata": {
  "kernelspec": {
   "display_name": "Python 3 (ipykernel)",
   "language": "python",
   "name": "python3"
  },
  "language_info": {
   "codemirror_mode": {
    "name": "ipython",
    "version": 3
   },
   "file_extension": ".py",
   "mimetype": "text/x-python",
   "name": "python",
   "nbconvert_exporter": "python",
   "pygments_lexer": "ipython3",
   "version": "3.9.16"
  }
 },
 "nbformat": 4,
 "nbformat_minor": 5
}
